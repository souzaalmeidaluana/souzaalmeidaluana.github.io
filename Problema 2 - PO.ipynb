{
 "cells": [
  {
   "cell_type": "code",
   "execution_count": 1,
   "id": "16b65c7d-dad6-4539-a190-139e6110f8db",
   "metadata": {},
   "outputs": [
    {
     "name": "stdout",
     "output_type": "stream",
     "text": [
      "Optimal\n",
      "O valor da funcao objetivo é: 12360.0\n",
      "xa1 = 700.0\n",
      "xa2 = 1100.0\n",
      "xa3 = 200.0\n",
      "xb3 = 1000.0\n"
     ]
    }
   ],
   "source": [
    "from pulp import *\n",
    "\n",
    "#Variaveis de decisao + nao-negatividade\n",
    "xa1 = LpVariable(\"xa1\", 0)\n",
    "xa2 = LpVariable(\"xa2\", 0)\n",
    "xa3 = LpVariable(\"xa3\", 0)\n",
    "xb1 = LpVariable(\"xb1\", 0)\n",
    "xb2 = LpVariable(\"xb2\", 0)\n",
    "xb3 = LpVariable(\"xb3\", 0)\n",
    "\n",
    "#Criando o problema\n",
    "prob = LpProblem(\"Transporte\", LpMinimize)\n",
    "\n",
    "#Funcao objetivo\n",
    "prob += 1*xa1 + 0.8*xa2 + 50.9*xa3 + 0.9*xb1 + 0.7*xb2 + 0.6*xb3\n",
    "\n",
    "#Restricoes\n",
    "prob += xa1 + xa2 + xa3 <= 2000\n",
    "prob += xb1 + xb2 + xb3 <= 1000\n",
    "prob += xa1 + xb1 >= 700\n",
    "prob += xa2 + xb2 >= 1100\n",
    "prob += xa3 + xb3 >= 1200\n",
    "\n",
    "#Status\n",
    "status = prob.solve()\n",
    "print(LpStatus[status])\n",
    "\n",
    "#Imprimir o valor da funcao objetivo\n",
    "fo = pulp.value(prob.objective)\n",
    "print(f\"O valor da funcao objetivo é: {fo}\")\n",
    "\n",
    "#Imprimir variáveis de decisão\n",
    "for var in prob.variables():\n",
    "    if var.varValue > 0:\n",
    "        print(f\"{var.name} = {var.varValue}\")"
   ]
  },
  {
   "cell_type": "code",
   "execution_count": null,
   "id": "57aad820-635d-4cbc-b7eb-19d8cf51885e",
   "metadata": {},
   "outputs": [],
   "source": []
  }
 ],
 "metadata": {
  "kernelspec": {
   "display_name": "Python 3 (ipykernel)",
   "language": "python",
   "name": "python3"
  },
  "language_info": {
   "codemirror_mode": {
    "name": "ipython",
    "version": 3
   },
   "file_extension": ".py",
   "mimetype": "text/x-python",
   "name": "python",
   "nbconvert_exporter": "python",
   "pygments_lexer": "ipython3",
   "version": "3.9.7"
  }
 },
 "nbformat": 4,
 "nbformat_minor": 5
}
